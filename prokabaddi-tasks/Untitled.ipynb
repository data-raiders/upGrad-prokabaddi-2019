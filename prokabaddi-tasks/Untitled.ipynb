{
 "cells": [
  {
   "cell_type": "code",
   "execution_count": 3,
   "metadata": {},
   "outputs": [
    {
     "name": "stdout",
     "output_type": "stream",
     "text": [
      "Winning team:  Dabang Delhi K.C.\n"
     ]
    }
   ],
   "source": [
    "import pandas as pd\n",
    "\n",
    "fixtures_results = pd.read_csv('schedule-fixtures-results.csv')\n",
    "standings = pd.read_csv('standings.csv')\n",
    "\n",
    "for ind in standings.index:\n",
    "    teamTo= standings['team'][ind]\n",
    "    for j in range(ind+1, standings.shape[0]-1) :\n",
    "        teamFrom = standings['team'][j]\n",
    "        teamAFilter = fixtures_results[fixtures_results['Team A'].str.match(teamTo+\"|\"+teamFrom)]\n",
    "        teamBFilter = teamAFilter[teamAFilter['Team B'].str.match(teamTo+\"|\"+teamFrom)]\n",
    "        teamBFilterNonYtp = teamBFilter[teamBFilter['Win Team'] != 'YTP']\n",
    "        if teamBFilterNonYtp.shape[0] == 2:\n",
    "            continue\n",
    "        winTeam = teamBFilterNonYtp.iloc[0, 2]\n",
    "        if winTeam == 'Match Ti':\n",
    "            ptsFrom = int(standings.loc[standings['team'] == teamFrom, 'Pts'])\n",
    "            ptsTo = int(standings.loc[standings['team'] == teamTo, 'Pts'])\n",
    "            standings[standings['team'] == teamFrom] = standings[standings['team'] == teamFrom].replace(ptsFrom, ptsFrom + 1)\n",
    "            standings[standings['team'] == teamTo] = standings[standings['team'] == teamTo].replace(ptsTo, ptsTo + 1)\n",
    "            continue\n",
    "        pts = int(standings.loc[standings['team'] == winTeam, 'Pts'])\n",
    "        standings[standings['team'] == winTeam] = standings[standings['team'] == winTeam].replace(pts, pts + 2)\n",
    "print('Winning team: ', str(standings[standings['Pts'] == standings['Pts'].max()]['team'].item()))"
   ]
  },
  {
   "cell_type": "code",
   "execution_count": 5,
   "metadata": {},
   "outputs": [
    {
     "name": "stdout",
     "output_type": "stream",
     "text": [
      "Predict the team with the highest points for successful raids.:  Dabang Delhi K.C.\n"
     ]
    }
   ],
   "source": [
    "import pandas as pd\n",
    "\n",
    "successful_raids = pd.read_csv('SUCCESSFUL RAIDS_SEASON 7.csv')\n",
    "\n",
    "successful_raids['Mean'] = successful_raids.apply(lambda row: row['points']/ row['Matches played'], axis = 1) \n",
    "  \n",
    "print('Predict the team with the highest points for successful raids.: ', str(successful_raids[successful_raids['Mean'] == successful_raids['Mean'].max()]['Name'].item()))\n",
    "\n",
    "\n",
    "#print(successful_raids)"
   ]
  },
  {
   "cell_type": "code",
   "execution_count": 7,
   "metadata": {},
   "outputs": [
    {
     "name": "stdout",
     "output_type": "stream",
     "text": [
      "Predict the team with the highest points for successful tackles.:  Puneri Paltan\n"
     ]
    }
   ],
   "source": [
    "import pandas as pd\n",
    "\n",
    "successful_tackles = pd.read_csv('SUCCESSFUL TACKLES_SEASON 7.csv')\n",
    "\n",
    "successful_tackles['Mean'] = successful_tackles.apply(lambda row: row['points']/ row['Matches played'], axis = 1) \n",
    "  \n",
    "print('Predict the team with the highest points for successful tackles.: ', str(successful_tackles[successful_tackles['Mean'] == successful_tackles['Mean'].max()]['Name'].item()))\n",
    "\n",
    "\n",
    "#print(successful_tackles)"
   ]
  },
  {
   "cell_type": "code",
   "execution_count": 9,
   "metadata": {},
   "outputs": [
    {
     "name": "stdout",
     "output_type": "stream",
     "text": [
      "Predict the team with the highest super-performance.:  Patna Pirates\n"
     ]
    }
   ],
   "source": [
    "\n",
    "import pandas as pd\n",
    "from functools import reduce\n",
    "pd.set_option('display.max_columns', 13)\n",
    "\n",
    "super_raids = pd.read_csv('SUPER RAID_SEASON 7.csv')\n",
    "super_raids.rename(columns={'points':'raid_points'}, inplace=True)\n",
    "super_tackles = pd.read_csv('SUPER TACKLES_SEASON 7.csv')\n",
    "super_tackles.rename(columns={'points':'tackles_points'}, inplace=True)\n",
    "all_outs_inflicted = pd.read_csv('ALL-OUTS INFLICTED_SEASON 7.csv')\n",
    "all_outs_inflicted.rename(columns={'points':'inflicted_points'}, inplace=True)\n",
    "all_outs_conceded = pd.read_csv('ALL-OUTS CONCEDED_SEASON 7.csv')\n",
    "all_outs_conceded.rename(columns={'points':'conceded_points'}, inplace=True)\n",
    "\n",
    "all_data_frames = [super_raids,super_tackles,all_outs_inflicted,all_outs_conceded]\n",
    "super_performance = reduce(lambda left,right: pd.merge(left,right,on=['Name','Matches played']), all_data_frames)\n",
    "\n",
    "super_performance['Mean'] = super_performance.apply(lambda row: (row['raid_points']+row['tackles_points']+row['inflicted_points']-row['conceded_points'])/row['Matches played'], axis = 1)\n",
    "\n",
    "print('Predict the team with the highest super-performance.: ', str(super_performance[super_performance['Mean'] == super_performance['Mean'].max()]['Name'].item()))\n"
   ]
  },
  {
   "cell_type": "code",
   "execution_count": 12,
   "metadata": {},
   "outputs": [
    {
     "name": "stdout",
     "output_type": "stream",
     "text": [
      "Predict the player with the highest SUCCESSFUL RAID percentage without considering min raids.:  RAKESH NARWAL\n",
      "Predict the player with the highest SUCCESSFUL RAID percentage with above raids100 .:  PAWAN KUMAR SEHRAWAT\n"
     ]
    }
   ],
   "source": [
    "\n",
    "import pandas as pd\n",
    "\n",
    "\n",
    "\n",
    "player_raids = pd.read_csv('player_raids.csv')\n",
    "\n",
    "\n",
    "player_raids_more = player_raids[player_raids['total'] >=  100]\n",
    "\n",
    "print('Predict the player with the highest SUCCESSFUL RAID percentage without considering min raids.: ', str(player_raids[player_raids['avg'] == player_raids['avg'].max()]['Name'].item()))\n",
    "\n",
    "print('Predict the player with the highest SUCCESSFUL RAID percentage with above raids100 .: ', str(player_raids_more[player_raids_more['avg'] == player_raids_more['avg'].max()]['Name'].item()))\n"
   ]
  },
  {
   "cell_type": "code",
   "execution_count": 13,
   "metadata": {},
   "outputs": [
    {
     "name": "stdout",
     "output_type": "stream",
     "text": [
      "                            Name  total  scored    avg\n",
      "0                 MANINDER SINGH      7       0      0\n",
      "1                   K. PRAPANJAN     14       2  14.28\n",
      "2    MOHAMMAD TAGHI PAEIN MAHALI      4       1     25\n",
      "3                  RAKESH NARWAL      0       0      0\n",
      "4        RAVINDRA RAMESH KUMAWAT      1       1    100\n",
      "5                   SUKESH HEGDE      4       1     25\n",
      "6                  NAVEEN NARWAL      8       1  12.50\n",
      "7                           AMIT      1       0      0\n",
      "8                   BALDEV SINGH    100      56     56\n",
      "9                    JEEVA KUMAR     80      31  38.75\n",
      "10           VIRAJ VISHNU LANDGE     31       7  22.58\n",
      "11                      ADARSH T      9       3  33.33\n",
      "12              DHARMENDRA SINGH      0       0      0\n",
      "13                  RINKU NARWAL    108      51  47.22\n",
      "14           AMIR SANTOSH DHUMAL      0       0      0\n",
      "15                 AVINASH A. R.      0       0      0\n",
      "16   MOHAMMAD ESMAEIL NABIBAKHSH     52      25  48.07\n",
      "17              MAYUR SHIVTARKAR     21       4  19.04\n",
      "18          SOURABH TANAJI PATIL      0       0      0\n",
      "19            SUNIL MANIK DUBILE      5       0      0\n",
      "20                   ROHIT KUMAR     17       4  23.52\n",
      "21                         BANTY      8       3  37.50\n",
      "22               LAL MOHAR YADAV      0       0      0\n",
      "23          PAWAN KUMAR SEHRAWAT     29      14  48.27\n",
      "24                   SUMIT SINGH     11       3  27.27\n",
      "25                   VINOD KUMAR      2       0      0\n",
      "26                MOHIT SEHRAWAT     31      12  38.70\n",
      "27            RAJU LAL CHOUDHARY      0       0      0\n",
      "28                   VIJAY KUMAR     16       5  31.25\n",
      "29                MAHENDER SINGH     90      46  51.11\n",
      "..                           ...    ...     ...    ...\n",
      "190                ROHIT BALIYAN     11       4  36.36\n",
      "191                 VINOTH KUMAR      1       0      0\n",
      "192         RAJAGURU SUBRAMANIAN      6       2  33.33\n",
      "193                HARSH VARDHAN      2       0      0\n",
      "194                         ANIL      0       0      0\n",
      "195               HARENDRA KUMAR     53      17  32.07\n",
      "196               YOUNG CHANG KO     13       6  46.15\n",
      "197               SURINDER SINGH    101      45  44.55\n",
      "198        AJINKYA ROHIDAS KAPRE      1       0      0\n",
      "199                 MOHIT BALYAN      0       0      0\n",
      "200               SANDEEP NARWAL     72      42  58.33\n",
      "201                 NITESH KUMAR     85      50  58.82\n",
      "202                       ANKUSH      1       1    100\n",
      "203                   AZAD SINGH      1       0      0\n",
      "204                GULVEER SINGH      0       0      0\n",
      "205              MD. MASUD KARIM      0       0      0\n",
      "206                   MONU GOYAT     11       3  27.27\n",
      "207             RISHANK DEVADIGA      8       1  12.50\n",
      "208              SHRIKANT JADHAV      8       3  37.50\n",
      "209                SURENDER GILL     14       8  57.14\n",
      "210               SURENDER SINGH      4       1     25\n",
      "211                   ASHU SINGH     79      32  40.50\n",
      "212                AASHISH NAGAR      0       0      0\n",
      "213                         AMIT     64      23  35.93\n",
      "214                        SUMIT    111      61  54.95\n",
      "215                 ARKAM SHAIKH      0       0      0\n",
      "216                      GURDEEP      3       2  66.66\n",
      "217     MOHSEN MAGHSOUDLOUJAFARI      8       3  37.50\n",
      "218                     NARENDER      7       0      0\n",
      "219                 SACHIN KUMAR     11       4  36.36\n",
      "\n",
      "[220 rows x 4 columns]\n",
      "Predict the player with the highest SUCCESSFUL TACKLE percentage without considering min tackles.:  ABHISHEK SINGH\n",
      "Predict the player with the highest SUCCESSFUL TACKLE percentage with above 50 tackles.:  NITESH KUMAR\n"
     ]
    }
   ],
   "source": [
    "\n",
    "import pandas as pd\n",
    "\n",
    "\n",
    "\n",
    "player_tackles = pd.read_csv('player_tackles.csv')\n",
    "\n",
    "player_tackles['avg'] = player_tackles.apply(lambda row: row['avg'].replace(\"%\",\"\"), axis = 1) \n",
    "\n",
    "print(player_tackles)\n",
    "player_tackles_more = player_tackles[player_tackles['total'] >=  50]\n",
    "\n",
    "print('Predict the player with the highest SUCCESSFUL TACKLE percentage without considering min tackles.: ', str(player_tackles[player_tackles['avg'] == player_tackles['avg'].max()]['Name'].item()))\n",
    "\n",
    "print('Predict the player with the highest SUCCESSFUL TACKLE percentage with above 50 tackles.: ', str(player_tackles_more[player_tackles_more['avg'] == player_tackles_more['avg'].max()]['Name'].item()))\n"
   ]
  }
 ],
 "metadata": {
  "kernelspec": {
   "display_name": "Python 3",
   "language": "python",
   "name": "python3"
  },
  "language_info": {
   "codemirror_mode": {
    "name": "ipython",
    "version": 3
   },
   "file_extension": ".py",
   "mimetype": "text/x-python",
   "name": "python",
   "nbconvert_exporter": "python",
   "pygments_lexer": "ipython3",
   "version": "3.7.3"
  }
 },
 "nbformat": 4,
 "nbformat_minor": 2
}
